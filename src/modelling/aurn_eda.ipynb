{
 "cells": [
  {
   "cell_type": "code",
   "execution_count": 116,
   "metadata": {},
   "outputs": [],
   "source": [
    "import sys\n",
    "import pandas as pd\n",
    "import matplotlib.pyplot as plt\n",
    "import seaborn as sns\n",
    "import numpy as np\n",
    "\n",
    "\n",
    "sys.path.append('../')"
   ]
  },
  {
   "cell_type": "markdown",
   "metadata": {},
   "source": [
    "# Loading Data\n",
    "### Loader and Cleaner Functions"
   ]
  },
  {
   "cell_type": "code",
   "execution_count": 131,
   "metadata": {},
   "outputs": [],
   "source": [
    "def make_func(offset=0):\n",
    "    def func(x):\n",
    "        try:\n",
    "            y = x[1 + offset].split(' ')[0]\n",
    "        except AttributeError:\n",
    "            y = x[1+offset]\n",
    "        return '{} {}'.format(x[0 + offset], y)\n",
    "    return func\n",
    "\n",
    "\n",
    "def aurn_cleaner(loc):\n",
    "    # Read data\n",
    "    aurn_data = pd.read_csv(loc, skiprows=3, na_values='No data')\n",
    "    \n",
    "    # Clean empty column names\n",
    "    aurn_data.columns = [col if \"Unnamed\" not in col else \"status_{}\".format(idx) for idx, col in enumerate(aurn_data.columns)]\n",
    "    \n",
    "    # Identify Date \n",
    "    aurn_data.rename(columns={'status_0':'Date'}, inplace=True)\n",
    "    \n",
    "    # Drop meta row\n",
    "    aurn_data = aurn_data.drop(aurn_data.index[0])\n",
    "    \n",
    "    # Extract measurement quality\n",
    "    melted = pd.DataFrame(aurn_data.Date)\n",
    "    for offset in range(1, aurn_data.shape[1]-1, 2):\n",
    "        melted['{}'.format(aurn_data.columns[offset])] = aurn_data.apply(make_func(offset), axis=1)\n",
    "    \n",
    "    # Clean up\n",
    "    cleaned = pd.DataFrame(melted.set_index('Date').stack())\n",
    "    clean_split = cleaned[0].str.split(' ').apply(pd.Series, 1)\n",
    "    clean_split.columns = ['pm25_value', 'measurement_quality']\n",
    "    clean_split = clean_split.reset_index()\n",
    "    clean_split.rename(columns={'level_1':'station_name'}, inplace=True)\n",
    "    \n",
    "    return clean_split"
   ]
  },
  {
   "cell_type": "markdown",
   "metadata": {},
   "source": [
    "### Load the Data"
   ]
  },
  {
   "cell_type": "code",
   "execution_count": 133,
   "metadata": {},
   "outputs": [
    {
     "name": "stdout",
     "output_type": "stream",
     "text": [
      "         Date               station_name pm25_value measurement_quality\n",
      "0  2010-01-01                   Aberdeen          4                   V\n",
      "1  2010-01-01           Auchencorth Moss          8                   V\n",
      "2  2010-01-01             Barnstaple A39        nan                 nan\n",
      "3  2010-01-01             Belfast Centre         44                   V\n",
      "4  2010-01-01  Birmingham A4540 Roadside        nan                 nan\n"
     ]
    }
   ],
   "source": [
    "aurn_raw = aurn_cleaner('../data/aurn_2010_18.csv')\n",
    "print(aurn_raw.head())"
   ]
  },
  {
   "cell_type": "markdown",
   "metadata": {},
   "source": [
    "### Filter NaNs"
   ]
  },
  {
   "cell_type": "code",
   "execution_count": 167,
   "metadata": {},
   "outputs": [
    {
     "name": "stdout",
     "output_type": "stream",
     "text": [
      "95377 Rows removed. \n",
      "Total rows: 191063\n"
     ]
    }
   ],
   "source": [
    "aurn_data = aurn_raw[(aurn_raw['pm25_value']!='nan') & (aurn_raw['measurement_quality']!='nan')]\n",
    "print('{} Rows removed. \\nTotal rows: {}'.format(aurn_raw.shape[0]-aurn_data.shape[0], aurn_data.shape[0]))\n",
    "aurn = aurn_data.astype({\"station_name\": str,\n",
    "                         \"pm25_value\": int, \n",
    "                         \"measurement_quality\": str})"
   ]
  },
  {
   "cell_type": "markdown",
   "metadata": {},
   "source": [
    "### Store"
   ]
  },
  {
   "cell_type": "code",
   "execution_count": 169,
   "metadata": {},
   "outputs": [],
   "source": [
    "aurn.to_csv('../data/cleaned/aurn.csv')"
   ]
  },
  {
   "cell_type": "code",
   "execution_count": null,
   "metadata": {},
   "outputs": [],
   "source": []
  }
 ],
 "metadata": {
  "kernelspec": {
   "display_name": "Python 3",
   "language": "python",
   "name": "python3"
  },
  "language_info": {
   "codemirror_mode": {
    "name": "ipython",
    "version": 3
   },
   "file_extension": ".py",
   "mimetype": "text/x-python",
   "name": "python",
   "nbconvert_exporter": "python",
   "pygments_lexer": "ipython3",
   "version": "3.6.6"
  }
 },
 "nbformat": 4,
 "nbformat_minor": 2
}
